{
 "cells": [
  {
   "cell_type": "code",
   "execution_count": 35,
   "id": "2403659d",
   "metadata": {},
   "outputs": [],
   "source": [
    "import os\n",
    "import pandas as pd\n",
    "import openai\n",
    "from docx import Document\n",
    "from pptx import Presentation\n",
    "import time\n",
    "from transformers import GPT2Tokenizer"
   ]
  },
  {
   "cell_type": "code",
   "execution_count": 43,
   "id": "4f2111ec",
   "metadata": {},
   "outputs": [],
   "source": [
    "os.environ['OPENAI_API_KEY'] = OPENAI_API_KEY #input your key here"
   ]
  },
  {
   "cell_type": "code",
   "execution_count": 44,
   "id": "235ca803",
   "metadata": {},
   "outputs": [],
   "source": [
    "import statsmodels.api as sm\n",
    "import matplotlib.pyplot as plt\n",
    "import numpy as np\n",
    "import pandas as pd"
   ]
  },
  {
   "cell_type": "code",
   "execution_count": 45,
   "id": "b4d242f1",
   "metadata": {},
   "outputs": [],
   "source": [
    "tokenizer = GPT2Tokenizer.from_pretrained(\"gpt2\")\n",
    "\n",
    "def chunk_text(text, max_chunk_size):\n",
    "    #TODO: improve chunking logic\n",
    "    words = word_tokenize(text)\n",
    "    chunks = [words[i:i + max_chunk_size] for i in range(0, len(words), max_chunk_size)]\n",
    "    return [\"\".join(chunk) for chunk in chunks]\n",
    "\n",
    "def chat(input_value, max_tokens, engine = 'text-davinci-003'):\n",
    "#Note: The openai-python library support for Azure OpenAI is in preview. \n",
    "    openai.api_type = \"azure\"\n",
    "    openai.api_base = \"https://eastus.api.cognitive.microsoft.com/\"\n",
    "    openai.api_version = \"2022-12-01\"\n",
    "    openai.api_key = os.getenv(\"OPENAI_API_KEY\")\n",
    "\n",
    "    response = openai.Completion.create(\n",
    "      engine=engine,\n",
    "      prompt=f\"{input_value}\\n\\n\",\n",
    "      temperature=1,\n",
    "      max_tokens=max_tokens,\n",
    "      top_p=0.5,\n",
    "      frequency_penalty=0,\n",
    "      presence_penalty=0,\n",
    "      stop=None)\n",
    "    return response.choices[0].text\n",
    "\n",
    "\n",
    "def word_tokenize(text):\n",
    "    ids = tokenizer(text)['input_ids']\n",
    "    return [tokenizer.decode(x) for x in ids]"
   ]
  },
  {
   "cell_type": "markdown",
   "id": "f9411ed8",
   "metadata": {},
   "source": [
    "## Functions for extracting useful information from data"
   ]
  },
  {
   "cell_type": "code",
   "execution_count": 112,
   "id": "ecf5bdfb",
   "metadata": {},
   "outputs": [],
   "source": [
    "def get_slope(data):\n",
    "    summaries = {}\n",
    "    for col in data.columns:\n",
    "        model = sm.OLS(data[col], sm.tools.add_constant(data.index)).fit()\n",
    "        summaries[col] = model.summary()\n",
    "    return summaries"
   ]
  },
  {
   "cell_type": "code",
   "execution_count": 113,
   "id": "5fdb7349",
   "metadata": {},
   "outputs": [],
   "source": [
    "def get_outliers(data):\n",
    "    summary = data.describe()\n",
    "    # Calculate Z-score for each data point\n",
    "    zscore = (data - summary.loc['mean'])/summary.loc['std']\n",
    "    # Identify data points with Z-score > 3\n",
    "    outlier_dict = {}\n",
    "    for col in data.columns:\n",
    "        outliers = data[col][data[col] > 3]\n",
    "        outlier_dict[col] = outliers\n",
    "    return outlier_dict"
   ]
  },
  {
   "cell_type": "code",
   "execution_count": null,
   "id": "a0ffa9f3",
   "metadata": {},
   "outputs": [],
   "source": [
    "def geo_analysis(data, data_explanation = \"\"):\n",
    "    prompt = 'Given the columns of a dataframe below, return the columns that are related to geography as a python list'\n",
    "    geo_columns = chat(prompt + str(list(data.columns)), max_tokens = 1000)\n",
    "    geo_columns = eval(geo_columns)\n",
    "    results = {}\n",
    "    for col in geo_columns:\n",
    "        agg_data = data.groupby(col).mean(numeric_only=True)\n",
    "        if agg_data.shape[1] == 0:\n",
    "            continue\n",
    "        agg_data = agg_data.sort_values(agg_data.columns[0], ascending=False)\n",
    "        agg_data = agg_data.to_dict()\n",
    "        results[col] = chat(data_explanation + \"Summarize the key insights from the following data. The data is sorted from highest value to lower.\" + str(agg_data), 1000)\n",
    "    return results    \n",
    "    "
   ]
  },
  {
   "cell_type": "code",
   "execution_count": 227,
   "id": "13fd0cfb",
   "metadata": {},
   "outputs": [],
   "source": [
    "# sepearate analysis if we're looking at geo vs nongeo data - we would likely want to expand the classification at some point\n",
    "def is_geo_data(data):\n",
    "    prompt = \"Below is the first few rows of a dataframe. Return 1 if the data is geography-related, and 0 otherwise\"\n",
    "    return chat(prompt + str(data.head()), 10).replace('\\n', '')"
   ]
  },
  {
   "cell_type": "markdown",
   "id": "fa0d061b",
   "metadata": {},
   "source": [
    "## Reading in data (i downloaded this manually)"
   ]
  },
  {
   "cell_type": "code",
   "execution_count": 114,
   "id": "350ac594",
   "metadata": {},
   "outputs": [],
   "source": [
    "mortality = pd.read_csv(\"/Users/amitmisra/Downloads/mortality.csv\")"
   ]
  },
  {
   "cell_type": "code",
   "execution_count": 150,
   "id": "2472fe21",
   "metadata": {},
   "outputs": [],
   "source": [
    "# this are examples of views that are showed - not sure if we have the \n",
    "mortality_by_country = mortality[mortality.Period == 2019][['ParentLocation', 'Location', 'FactValueNumeric']]\n",
    "mortality_over_time = mortality.groupby('Period').FactValueNumeric.mean().reset_index()"
   ]
  },
  {
   "cell_type": "code",
   "execution_count": 220,
   "id": "019bda69",
   "metadata": {},
   "outputs": [],
   "source": [
    "def non_geo_analysis(data, data_explanation=\"\"):\n",
    "    slope_results = get_slope(data)\n",
    "    slope_gpt = {}\n",
    "    for key in slope_results:\n",
    "        slope_gpt[key] = chat(data_explanation + f\"Given the following model results for a linear regression model for column {key}, describe the key insights in layment's terms\" + str(slope_results[key])[:3500], 500)\n",
    "    outlier_results = get_outliers(data)\n",
    "    outlier_gpt = {}\n",
    "    for key in outlier_results:\n",
    "        outlier_gpt[key] = chat(data_explanation + f\"Given the following outliers for column {key}, return the main outliers with their corresponding {key} values:\" + str(outlier_results[key])[:3500], 500)\n",
    "    return slope_gpt, outlier_gpt"
   ]
  },
  {
   "cell_type": "code",
   "execution_count": 221,
   "id": "3620709f",
   "metadata": {},
   "outputs": [],
   "source": [
    "def return_insights(data, data_explanation = \"\"):\n",
    "    if is_geo_data(data) == \"1\":\n",
    "        gpt_results = geo_analysis(data, data_explanation)\n",
    "    else:\n",
    "        gpt_results = non_geo_analysis(data, data_explanation)\n",
    "    final_result = chat(data_explanation + \"Identify the key insights from the following analysis of the data and explain in simple terms\" + str(gpt_results)[:3500], 500)\n",
    "    return final_result\n"
   ]
  },
  {
   "cell_type": "code",
   "execution_count": 222,
   "id": "4856c38a",
   "metadata": {},
   "outputs": [
    {
     "name": "stdout",
     "output_type": "stream",
     "text": [
      "\n",
      "The key insight from this analysis is that the average period of time has decreased from 1990 to 2019. In 1990, the average period of time was 13.37 years, but in 2019, it was only 5.62 years, representing a decrease of over 50%. This suggests that the average period of time has been decreasing over the past few decades.\n"
     ]
    }
   ],
   "source": [
    "print(return_insights(mortality_over_time))"
   ]
  },
  {
   "cell_type": "code",
   "execution_count": 223,
   "id": "0ef73182",
   "metadata": {},
   "outputs": [
    {
     "name": "stdout",
     "output_type": "stream",
     "text": [
      "\n",
      "The key insights from the data are that mortality rates for 5-14 year olds have decreased significantly over time. In 1990, the mortality rate was 13.37 per 1000 people, and by 2019, it had decreased to 5.62 per 1000 people. This indicates that mortality rates for this age group have decreased by more than 50% over the past 30 years.\n"
     ]
    }
   ],
   "source": [
    "print(return_insights(mortality_over_time, \"This is data on mortality rates for 5-14 year olds over time. FactValueNumeric is the mortality rate. \"))"
   ]
  },
  {
   "cell_type": "code",
   "execution_count": 224,
   "id": "5ed494ce",
   "metadata": {},
   "outputs": [
    {
     "name": "stdout",
     "output_type": "stream",
     "text": [
      "\n",
      "The key insights from this analysis are that countries in Africa tend to have higher FactValueNumeric values than those in other regions. This means that African countries generally have higher values for the data being analyzed than other countries in the world. Additionally, the highest FactValueNumeric value was found in Africa at 13.57, while the lowest value was found in Luxembourg at 0.38.\n"
     ]
    }
   ],
   "source": [
    "print(return_insights(mortality_by_country))"
   ]
  },
  {
   "cell_type": "code",
   "execution_count": 225,
   "id": "a7fe5937",
   "metadata": {},
   "outputs": [
    {
     "name": "stdout",
     "output_type": "stream",
     "text": [
      "\n",
      "The key insights from this analysis are that mortality rates for 5-14 year olds vary widely by country and region. Africa has the highest mortality rate at 13.57, while Europe has the lowest mortality rate at 1.30. Countries in Africa and the Middle East have higher mortality rates than those in Europe and North America. This suggests that there are disparities in access to healthcare and other resources that could be contributing to higher mortality rates in certain countries and regions.\n"
     ]
    }
   ],
   "source": [
    "print(return_insights(mortality_by_country, \"This is data on mortality rates for 5-14 year olds by country. FactValueNumeric is the mortality rate. \"))"
   ]
  },
  {
   "cell_type": "code",
   "execution_count": null,
   "id": "29ddaab8",
   "metadata": {},
   "outputs": [],
   "source": []
  }
 ],
 "metadata": {
  "kernelspec": {
   "display_name": "Python 3 (ipykernel)",
   "language": "python",
   "name": "python3"
  },
  "language_info": {
   "codemirror_mode": {
    "name": "ipython",
    "version": 3
   },
   "file_extension": ".py",
   "mimetype": "text/x-python",
   "name": "python",
   "nbconvert_exporter": "python",
   "pygments_lexer": "ipython3",
   "version": "3.11.1"
  }
 },
 "nbformat": 4,
 "nbformat_minor": 5
}
